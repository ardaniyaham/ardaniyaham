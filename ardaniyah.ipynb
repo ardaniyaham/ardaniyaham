{
 "cells": [
  {
   "cell_type": "code",
   "execution_count": 1,
   "id": "be818641-edd1-41ed-948f-690602d05935",
   "metadata": {},
   "outputs": [
    {
     "name": "stdout",
     "output_type": "stream",
     "text": [
      "#/################################################################################/\n",
      "/                                                                                 /\n",
      "/                       Ardaniyah Aimmatul Mujtahidah                             /\n",
      "/                            20/55411/PA/19626                                    /\n",
      "/                        ardaniyahimma@mail.ugm.ac.id                             /\n",
      "/                                                                                 /\n",
      "#/################################################################################/\n"
     ]
    }
   ],
   "source": [
    "print (\"#/################################################################################/\")\n",
    "print (\"/                                                                                 /\")\n",
    "print (\"/                       Ardaniyah Aimmatul Mujtahidah                             /\")\n",
    "print (\"/                            20/55411/PA/19626                                    /\")\n",
    "print (\"/                        ardaniyahimma@mail.ugm.ac.id                             /\")\n",
    "print (\"/                                                                                 /\")\n",
    "print (\"#/################################################################################/\")"
   ]
  },
  {
   "cell_type": "code",
   "execution_count": null,
   "id": "b7091e4b-07bc-46bc-9418-2a5c5c12ea93",
   "metadata": {},
   "outputs": [],
   "source": []
  }
 ],
 "metadata": {
  "kernelspec": {
   "display_name": "Python 3",
   "language": "python",
   "name": "python3"
  },
  "language_info": {
   "codemirror_mode": {
    "name": "ipython",
    "version": 3
   },
   "file_extension": ".py",
   "mimetype": "text/x-python",
   "name": "python",
   "nbconvert_exporter": "python",
   "pygments_lexer": "ipython3",
   "version": "3.8.5"
  }
 },
 "nbformat": 4,
 "nbformat_minor": 5
}
